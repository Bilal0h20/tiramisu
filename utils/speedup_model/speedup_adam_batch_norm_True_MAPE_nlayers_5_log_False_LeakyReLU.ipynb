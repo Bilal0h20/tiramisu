{
 "cells": [
  {
   "cell_type": "code",
   "execution_count": null,
   "metadata": {},
   "outputs": [],
   "source": [
    "from os import environ\n",
    "\n",
    "environ['optimizer'] = 'Adam'\n",
    "environ['num_workers']= '8'\n",
    "environ['batch_size']= '8192'\n",
    "environ['n_epochs']= '1500'\n",
    "environ['batch_norm']= 'True'\n",
    "environ['loss_func']='MAPE'\n",
    "environ['layers'] = '600 350 200 180'\n",
    "environ['dropouts'] = '0.3 '*4\n",
    "environ['log'] = 'False'\n",
    "environ['weight_decay'] = '0.01'\n",
    "environ['cuda_device'] ='cuda:0'\n",
    "environ['dataset'] = 'speedup_dataset_augm_600.pkl'\n",
    "\n",
    "%run utils.ipynb"
   ]
  },
  {
   "cell_type": "code",
   "execution_count": null,
   "metadata": {},
   "outputs": [],
   "source": [
    "print(\"loading data\")\n",
    "\n",
    "train_dl, val_dl, test_dl = train_dev_split(dataset,val_size=10000, test_size=10000, batch_size=batch_size, num_workers=num_workers, log=log)\n",
    "# train_dl, val_dl, test_dl = train_dev_split_filter(dataset,val_size=10000, test_size=10000, batch_size=batch_size, num_workers=num_workers, log=log, speedup_lo_bound=0.2)\n",
    "db = fai.basic_data.DataBunch(train_dl, val_dl, test_dl, device=device)\n",
    "\n",
    "print(\"data loaded\")\n",
    "print(val_dl.dataset.X.shape)"
   ]
  },
  {
   "cell_type": "code",
   "execution_count": null,
   "metadata": {},
   "outputs": [],
   "source": [
    "input_size = train_dl.dataset.X.shape[1]\n",
    "output_size = train_dl.dataset.Y.shape[1]\n",
    "print(train_dl.dataset.X.shape)\n",
    "print(train_dl.dataset.Y)\n",
    "\n",
    "model = None \n",
    "\n",
    "if batch_norm:\n",
    "    model = Model_BN_LeakyReLU(input_size, output_size, hidden_sizes=layers_sizes, drops=drops)\n",
    "else:\n",
    "    model = Model(input_size, output_size)\n",
    "\n",
    "# model = nn.DataParallel(model)\n",
    "# model.to(device)\n",
    "\n",
    "if loss_func == 'MSE':\n",
    "    criterion = nn.MSELoss()\n",
    "else:\n",
    "    criterion = mape_criterion\n",
    "\n",
    "l = fai.basic_train.Learner(db, model, loss_func=criterion, metrics=[mape_criterion, rmse_criterion],\n",
    "                            callback_fns=[partial(EarlyStoppingCallback, mode='min', \n",
    "                            monitor='mape_criterion', min_delta=0, patience=150)],silent=True)\n",
    "\n",
    "if optimizer == 'SGD':\n",
    "    l.opt_func = optim.SGD \n",
    "    "
   ]
  },
  {
   "cell_type": "code",
   "execution_count": null,
   "metadata": {},
   "outputs": [],
   "source": [
    "l.lr_find()\n",
    "l.recorder.plot()"
   ]
  },
  {
   "cell_type": "code",
   "execution_count": null,
   "metadata": {},
   "outputs": [],
   "source": [
    "lr = 1e-02"
   ]
  },
  {
   "cell_type": "code",
   "execution_count": null,
   "metadata": {
    "scrolled": true
   },
   "outputs": [],
   "source": [
    "l.fit_one_cycle(1500, lr)"
   ]
  },
  {
   "cell_type": "code",
   "execution_count": null,
   "metadata": {},
   "outputs": [],
   "source": [
    "l.recorder.plot_losses()"
   ]
  },
  {
   "cell_type": "code",
   "execution_count": null,
   "metadata": {
    "scrolled": true
   },
   "outputs": [],
   "source": [
    "l.save(f\"speedup_{optimizer}_batch_norm_{batch_norm}_{loss_func}_nlayers_{len(layers_sizes)}_log_{log}_LeakyReLU\")"
   ]
  },
  {
   "cell_type": "code",
   "execution_count": null,
   "metadata": {},
   "outputs": [],
   "source": [
    "val_df = get_results_df(val_dl, l.model)\n",
    "train_df = get_results_df(train_dl, l.model)\n",
    "test_df=get_results_df(test_dl, l.model)"
   ]
  },
  {
   "cell_type": "code",
   "execution_count": null,
   "metadata": {},
   "outputs": [],
   "source": [
    "test_df.describe()"
   ]
  },
  {
   "cell_type": "code",
   "execution_count": null,
   "metadata": {},
   "outputs": [],
   "source": [
    "val_df.describe()"
   ]
  },
  {
   "cell_type": "code",
   "execution_count": null,
   "metadata": {},
   "outputs": [],
   "source": [
    "train_df.describe()"
   ]
  },
  {
   "cell_type": "code",
   "execution_count": null,
   "metadata": {},
   "outputs": [],
   "source": [
    "gdf_t=pd.DataFrame(train_df.groupby(['name']).mean())\n",
    "gdf_v=pd.DataFrame(val_df.groupby(['name']).mean())"
   ]
  },
  {
   "cell_type": "code",
   "execution_count": null,
   "metadata": {},
   "outputs": [],
   "source": [
    "label=list(gdf_v.index)\n",
    "mape=gdf_v['APE']\n",
    "index = np.arange(len(label))\n",
    "plt.figure(figsize=(20,10))\n",
    "plt.bar(index, mape)\n",
    "plt.xlabel('function', fontsize=5)\n",
    "plt.ylabel('mape', fontsize=5)\n",
    "plt.xticks(index, label, fontsize=5, rotation=30)\n",
    "plt.title('-')\n",
    "plt.show()"
   ]
  },
  {
   "cell_type": "code",
   "execution_count": null,
   "metadata": {},
   "outputs": [],
   "source": [
    "train_df.groupby(['name']).mean().head()"
   ]
  },
  {
   "cell_type": "code",
   "execution_count": null,
   "metadata": {},
   "outputs": [],
   "source": [
    "df[(df.interchange==0) & (df.unroll == 0) & (df.tile == 0)][['prediction','target', 'abs_diff','APE']]"
   ]
  },
  {
   "cell_type": "code",
   "execution_count": null,
   "metadata": {},
   "outputs": [],
   "source": [
    "df1 = df[(df.interchange==0) & (df.unroll == 0) & (df.tile == 0)]\n",
    "#joint_plot(df1, f\"Validation dataset, {loss_func} loss\")\n",
    "df2 = df\n",
    "joint_plot(df2, f\"Validation dataset, {loss_func} loss\")"
   ]
  },
  {
   "cell_type": "code",
   "execution_count": null,
   "metadata": {},
   "outputs": [],
   "source": [
    "df_ = df.sort_values(by=[\"APE\"])\n",
    "\n",
    "df_['x'] = range(len(df_))"
   ]
  },
  {
   "cell_type": "code",
   "execution_count": null,
   "metadata": {},
   "outputs": [],
   "source": [
    "plt.plot('x', 'APE', 'bo', data=df_)\n",
    "\n",
    "\n",
    "plt.xlabel('scheduled program')\n",
    "plt.ylabel('APE')\n",
    "plt.legend()"
   ]
  },
  {
   "cell_type": "code",
   "execution_count": null,
   "metadata": {},
   "outputs": [],
   "source": [
    "plt.plot('x', 'APE', 'go', data=df_)"
   ]
  },
  {
   "cell_type": "code",
   "execution_count": null,
   "metadata": {},
   "outputs": [],
   "source": [
    "l = l.load(f\"speedup_{optimizer}_batch_norm_{batch_norm}_{loss_func}_nlayers_{len(layers_sizes)}_log_{log}_aumen600_leakyReLU\")"
   ]
  }
 ],
 "metadata": {
  "kernelspec": {
   "display_name": "Python 3",
   "language": "python",
   "name": "python3"
  },
  "language_info": {
   "codemirror_mode": {
    "name": "ipython",
    "version": 3
   },
   "file_extension": ".py",
   "mimetype": "text/x-python",
   "name": "python",
   "nbconvert_exporter": "python",
   "pygments_lexer": "ipython3",
   "version": "3.7.4"
  }
 },
 "nbformat": 4,
 "nbformat_minor": 4
}
